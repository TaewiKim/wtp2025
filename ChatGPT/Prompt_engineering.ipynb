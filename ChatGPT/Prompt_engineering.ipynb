{
 "cells": [
  {
   "cell_type": "code",
   "execution_count": null,
   "metadata": {},
   "outputs": [],
   "source": [
    "%env OPENAI_API_KEY=your api key"
   ]
  },
  {
   "cell_type": "code",
   "execution_count": 16,
   "metadata": {},
   "outputs": [],
   "source": [
    "import http.client\n",
    "import os\n",
    "import json\n",
    "\n",
    "# 환경변수에서 API 키 가져오기\n",
    "api_key = os.environ.get(\"OPENAI_API_KEY\")\n",
    "if not api_key:\n",
    "    raise ValueError(\"환경변수 'OPENAI_API_KEY'에 API 키가 설정되어 있지 않습니다.\")\n",
    "\n",
    "def get_chat_completion_content(system_message, user_utterance, model=\"gpt-4o-mini\"):\n",
    "    \"\"\"\n",
    "    주어진 system 메시지와 user 발언을 바탕으로 ChatGPT API를 호출하여 응답의 content를 반환하는 함수입니다.\n",
    "    \n",
    "    Parameters:\n",
    "        system_message (str): 시스템 메시지.\n",
    "        user_utterance (str): 사용자 발언.\n",
    "        model (str): 사용할 모델 이름 (기본값: \"gpt-4o-mini\").\n",
    "    \n",
    "    Returns:\n",
    "        str: ChatGPT API 응답 중 assistant의 content 부분.\n",
    "    \"\"\"\n",
    "    \n",
    "    # 메시지 리스트 구성\n",
    "    messages = [\n",
    "        {\"role\": \"system\", \"content\": system_message},\n",
    "        {\"role\": \"user\", \"content\": user_utterance}\n",
    "    ]\n",
    "    \n",
    "    # 요청 payload 구성 (temperature는 고정값 0.7)\n",
    "    payload = {\n",
    "        \"model\": model,\n",
    "        \"messages\": messages,\n",
    "        \"temperature\": 0.7\n",
    "    }\n",
    "    \n",
    "    # HTTP 요청 헤더 설정\n",
    "    headers = {\n",
    "        \"Content-Type\": \"application/json\",\n",
    "        \"Authorization\": f\"Bearer {api_key}\"\n",
    "    }\n",
    "    \n",
    "    # API 호출\n",
    "    conn = http.client.HTTPSConnection(\"api.openai.com\")\n",
    "    conn.request(\"POST\", \"/v1/chat/completions\", json.dumps(payload), headers)\n",
    "    response = conn.getresponse()\n",
    "    data = response.read()\n",
    "    conn.close()\n",
    "    \n",
    "    # JSON 응답 파싱 및 content 추출\n",
    "    response_json = json.loads(data.decode(\"utf-8\"))\n",
    "    content = response_json[\"choices\"][0][\"message\"][\"content\"]\n",
    "    return content\n"
   ]
  },
  {
   "cell_type": "code",
   "execution_count": null,
   "metadata": {},
   "outputs": [
    {
     "name": "stdout",
     "output_type": "stream",
     "text": [
      "좋은 질문이에요! SCAMPER 기법을 활용해 아이디어를 확장해 보도록 하죠. 각 질문에 대한 생각을 나눠볼까요?\n",
      "\n",
      "1. **Substitute (대체하기)**: 현재 생각하고 있는 IT 프로젝트의 일부 요소를 다른 것으로 바꾸면 어떤 새로운 아이디어가 떠오를까요? 예를 들어, 웹사이트 대신 모바일 앱을 만들면 어떤 점이 좋을까요?\n",
      "\n",
      "2. **Combine (결합하기)**: 두 가지 아이디어를 합쳐서 새로운 프로젝트를 만들 수 있을까요? 예를 들어, 소셜 미디어와 교육 플랫폼을 결합하면 어떤 형태의 프로젝트가 가능할까요?\n",
      "\n",
      "3. **Adapt (응용하기)**: 다른 산업에서 사용되는 기술이나 아이디어를 응용하면 어떤 프로젝트를 만들 수 있을까요? 예를 들어, 헬스케어에서의 데이터 분석 기술을 교육에 어떻게 적용할 수 있을까요?\n",
      "\n",
      "4. **Modify (수정하기)**: 현재 구상하고 있는 프로젝트의 형태, 색상, 크기 등을 변경하면 어떤 새로운 가능성이 열릴까요? 예를 들어, 웹사이트의 디자인을 바꾸면 사용자 경험이 어떻게 달라질까요?\n",
      "\n",
      "5. **Put to another use (다른 용도로 사용하기)**: 기존의 기술이나 도구를 새로운 방식으로 활용하면 어떤 아이디어가 나올까요? 예를 들어, 게임을 교육 도구로 사용할 수 있는 방법은 무엇일까요?\n",
      "\n",
      "6. **Eliminate (제거하기)**: 프로젝트에서 불필요한 요소를 제거하면 더 간단하고 효과적인 프로젝트가 될 수 있을까요? 어떤 기능이나 요소를 빼면 좋을까요?\n",
      "\n",
      "7. **Reverse/Rearrange (반대로 하기 / 재배열하기)**: 프로젝트의 순서를 바꾸거나 아이디어를 거꾸로 생각해보면 어떤 새로운 통찰이 생길까요? 예를 들어, 결과물부터 생각해보고 그에 맞는 과정을 역으로 설정하면 어떻게 될까요?\n",
      "\n",
      "이 질문들을 통해 여러 가지 아이디어를 브레인스토밍해 보세요! 어떤 아이디어가 떠오르셨나요?\n"
     ]
    }
   ],
   "source": [
    "\n",
    "# 함수 사용 예제\n",
    "system_message = (\n",
    "    \"SCAMPER 기법을 사용하여 사용자가 브레인스토밍을 할 수 있도록 도와줘.\\n\\n\"\n",
    "    \"아래의 SCAMPER 7가지 질문 프레임워크를 바탕으로 대화를 유도해줘.\\n\\n\"\n",
    "    \"1. Substitute (대체하기) : 일부 요소를 다른 것으로 바꾸면?\\n\"\n",
    "    \"2. Combine (결합하기) : 두 가지 아이디어를 합치면?\\n\"\n",
    "    \"3. Adapt (응용하기) : 다른 산업에서 사용되는 것을 응용하면?\\n\"\n",
    "    \"4. Modify (수정하기) : 형태, 색상, 크기 등을 변경하면?\\n\"\n",
    "    \"5. Put to another use (다른 용도로 사용하기) : 새로운 방식으로 활용하면?\\n\"\n",
    "    \"6. Eliminate (제거하기) : 불필요한 요소를 빼면?\\n\"\n",
    "    \"7. Reverse/Rearrange (반대로 하기 / 재배열하기) : 순서를 바꾸거나 거꾸로 하면?\"\n",
    ")\n",
    "user_utterance = \"학기 중에 친구들과 할 수 있는 IT 프로젝트가 뭐가 있을까?\"\n",
    "\n",
    "result = get_chat_completion_content(system_message, user_utterance)\n",
    "print(result)\n"
   ]
  },
  {
   "cell_type": "code",
   "execution_count": 18,
   "metadata": {},
   "outputs": [
    {
     "name": "stdout",
     "output_type": "stream",
     "text": [
      "{\n",
      "    \"Substitute\": \"기존의 웹사이트를 대신해 모바일 애플리케이션으로 전환해보면 어떨까?\",\n",
      "    \"Combine\": \"소셜 미디어 플랫폼과 학습 관리 시스템을 결합하여, 친구들과 함께 공부할 수 있는 커뮤니티를 만들 수 있을까?\",\n",
      "    \"Adapt\": \"다른 학교에서 사용되는 온라인 학습 도구를 참고하여, 우리 학교에 맞는 시스템으로 응용해볼 수 있을까?\",\n",
      "    \"Modify\": \"현재 사용하는 도구의 디자인을 변경하거나, 기능을 추가하여 사용자 경험을 개선해볼 수 있을까?\",\n",
      "    \"Put to another use\": \"학생들이 자주 사용하는 앱을 활용하여, 일정 관리 앱으로 변형해볼 수 있을까?\",\n",
      "    \"Eliminate\": \"프로젝트의 복잡한 기능 중 불필요한 요소를 제거하여 더 간단하게 만들 수 있을까?\",\n",
      "    \"Reverse/Rearrange\": \"프로젝트 진행 순서를 바꾸거나, 각 팀원의 역할을 재배열하여 새로운 아이디어를 도출해볼 수 있을까?\"\n",
      "}\n"
     ]
    }
   ],
   "source": [
    "system_message = (\"\"\"\n",
    "SCAMPER 기법을 사용하여 사용자가 브레인스토밍을 할 수 있도록 도와줘.\n",
    "\n",
    "아래의 SCAMPER 7가지 질문 프레임워크를 바탕으로 대화를 유도해줘.\n",
    "\n",
    "1. Substitute (대체하기) : 일부 요소를 다른 것으로 바꾸면?\n",
    "2. Combine (결합하기) : 두 가지 아이디어를 합치면?\n",
    "3. Adapt (응용하기) : 다른 산업에서 사용되는 것을 응용하면?\n",
    "4. Modify (수정하기) : 형태, 색상, 크기 등을 변경하면?\n",
    "5. Put to another use (다른 용도로 사용하기) : 새로운 방식으로 활용하면?\n",
    "6. Eliminate (제거하기) : 불필요한 요소를 빼면?\n",
    "7. Reverse/Rearrange (반대로 하기 / 재배열하기) : 순서를 바꾸거나 거꾸로 하면?\n",
    "\n",
    "응답은 반드시 JSON 형식으로 출력해줘. 예를 들어, 아래와 같이 출력해줘:\n",
    "\n",
    "{\n",
    "    \"Substitute\": \"예시 답변\",\n",
    "    \"Combine\": \"예시 답변\",\n",
    "    \"Adapt\": \"예시 답변\",\n",
    "    \"Modify\": \"예시 답변\",\n",
    "    \"Put to another use\": \"예시 답변\",\n",
    "    \"Eliminate\": \"예시 답변\",\n",
    "    \"Reverse/Rearrange\": \"예시 답변\"\n",
    "}\n",
    "\"\"\")\n",
    "\n",
    "user_utterance = \"학기 중에 친구들과 할 수 있는 IT 프로젝트가 뭐가 있을까?\"\n",
    "    \n",
    "result = get_chat_completion_content(system_message, user_utterance)\n",
    "print(result)"
   ]
  },
  {
   "cell_type": "code",
   "execution_count": 29,
   "metadata": {},
   "outputs": [
    {
     "name": "stdout",
     "output_type": "stream",
     "text": [
      "<class 'str'>\n",
      "기존의 웹사이트를 대신해 모바일 애플리케이션으로 전환해보면 어떨까?\n"
     ]
    }
   ],
   "source": [
    "print(type(result))  # <class 'str'> 출력\n",
    "\n",
    "data = json.loads(result) # Json 변환\n",
    "\n",
    "# \"Substitute\" 키에 해당하는 값 추출\n",
    "substitute_value = data[\"Substitute\"]\n",
    "print(substitute_value)"
   ]
  },
  {
   "cell_type": "code",
   "execution_count": null,
   "metadata": {},
   "outputs": [],
   "source": []
  }
 ],
 "metadata": {
  "kernelspec": {
   "display_name": "Python 3",
   "language": "python",
   "name": "python3"
  },
  "language_info": {
   "codemirror_mode": {
    "name": "ipython",
    "version": 3
   },
   "file_extension": ".py",
   "mimetype": "text/x-python",
   "name": "python",
   "nbconvert_exporter": "python",
   "pygments_lexer": "ipython3",
   "version": "3.12.1"
  }
 },
 "nbformat": 4,
 "nbformat_minor": 2
}
