{
 "cells": [
  {
   "cell_type": "code",
   "execution_count": 1,
   "metadata": {},
   "outputs": [
    {
     "name": "stdout",
     "output_type": "stream",
     "text": [
      "Requirement already satisfied: requests in /home/codespace/.local/lib/python3.12/site-packages (2.32.3)\n",
      "Requirement already satisfied: charset-normalizer<4,>=2 in /home/codespace/.local/lib/python3.12/site-packages (from requests) (3.4.0)\n",
      "Requirement already satisfied: idna<4,>=2.5 in /home/codespace/.local/lib/python3.12/site-packages (from requests) (3.10)\n",
      "Requirement already satisfied: urllib3<3,>=1.21.1 in /home/codespace/.local/lib/python3.12/site-packages (from requests) (2.2.3)\n",
      "Requirement already satisfied: certifi>=2017.4.17 in /home/codespace/.local/lib/python3.12/site-packages (from requests) (2024.8.30)\n",
      "\n",
      "\u001b[1m[\u001b[0m\u001b[34;49mnotice\u001b[0m\u001b[1;39;49m]\u001b[0m\u001b[39;49m A new release of pip is available: \u001b[0m\u001b[31;49m24.3.1\u001b[0m\u001b[39;49m -> \u001b[0m\u001b[32;49m25.0\u001b[0m\n",
      "\u001b[1m[\u001b[0m\u001b[34;49mnotice\u001b[0m\u001b[1;39;49m]\u001b[0m\u001b[39;49m To update, run: \u001b[0m\u001b[32;49mpip install --upgrade pip\u001b[0m\n",
      "Note: you may need to restart the kernel to use updated packages.\n"
     ]
    }
   ],
   "source": [
    "pip install requests"
   ]
  },
  {
   "cell_type": "code",
   "execution_count": 3,
   "metadata": {},
   "outputs": [
    {
     "name": "stdout",
     "output_type": "stream",
     "text": [
      "{\"ResponseMetadata\": {\"RequestId\": \"0VR3U6C2EUMN2TAPDAC4M3G863VV4KQNSO5AEMVJF66Q9ASUAAJG\", \"HTTPStatusCode\": 200, \"HTTPHeaders\": {\"server\": \"Server\", \"date\": \"Thu, 06 Feb 2025 04:01:55 GMT\", \"content-type\": \"application/x-amz-json-1.0\", \"content-length\": \"2\", \"connection\": \"keep-alive\", \"x-amzn-requestid\": \"0VR3U6C2EUMN2TAPDAC4M3G863VV4KQNSO5AEMVJF66Q9ASUAAJG\", \"x-amz-crc32\": \"2745614147\"}, \"RetryAttempts\": 0}}\n"
     ]
    }
   ],
   "source": [
    "import requests\n",
    "import json\n",
    "from datetime import datetime, timezone\n",
    "\n",
    "# API 엔드포인트 URL\n",
    "url = \"https://fgrgq04u64.execute-api.ap-northeast-2.amazonaws.com/default/Lambda-Taewi-Test\"\n",
    "\n",
    "# 현재 UTC 시간을 ISO 8601 포맷으로 가져오기\n",
    "current_time = datetime.now(timezone.utc).astimezone().isoformat()\n",
    "\n",
    "# 업로드할 데이터: DynamoDB 'put_item' 메소드에 필요한 데이터 구조 예시\n",
    "data = {\n",
    "    \"Item\": {\n",
    "        \"UserID\": {\"S\": \"user_1234\"},\n",
    "        \"message\": {\"S\": \"Hello, DynamoDB!\"},\n",
    "        \"Timestamp\": {\"S\": current_time}\n",
    "    }\n",
    "}\n",
    "\n",
    "# 헤더에 API 키 포함\n",
    "headers = {\n",
    "    \"Content-Type\": \"application/json\",\n",
    "}\n",
    "\n",
    "# POST 요청 보내기\n",
    "response = requests.post(url, json=data, headers=headers)\n",
    "\n",
    "# 응답 출력\n",
    "print(response.text)\n"
   ]
  },
  {
   "cell_type": "code",
   "execution_count": 15,
   "metadata": {},
   "outputs": [
    {
     "name": "stdout",
     "output_type": "stream",
     "text": [
      "{\"Item\": {\"UserID\": {\"S\": \"user_1234\"}, \"Timestamp\": {\"S\": \"2025-02-06T02:06:20.374524+00:00\"}, \"message\": {\"S\": \"Hello, DynamoDB!\"}}, \"ResponseMetadata\": {\"RequestId\": \"7GSAVH1FIC4VCLIBUM8GL6MD6BVV4KQNSO5AEMVJF66Q9ASUAAJG\", \"HTTPStatusCode\": 200, \"HTTPHeaders\": {\"server\": \"Server\", \"date\": \"Thu, 06 Feb 2025 02:06:38 GMT\", \"content-type\": \"application/x-amz-json-1.0\", \"content-length\": \"125\", \"connection\": \"keep-alive\", \"x-amzn-requestid\": \"7GSAVH1FIC4VCLIBUM8GL6MD6BVV4KQNSO5AEMVJF66Q9ASUAAJG\", \"x-amz-crc32\": \"1243257336\"}, \"RetryAttempts\": 0}}\n"
     ]
    }
   ],
   "source": [
    "# GET 요청에 사용될 쿼리 매개변수\n",
    "params = {\n",
    "    'Key': json.dumps({\n",
    "        'UserID': {'S': 'user_1234'},\n",
    "        'Timestamp': {'S': current_time}\n",
    "    })\n",
    "}\n",
    "\n",
    "# GET 요청 보내기\n",
    "response = requests.get(url, headers=headers, params=params)\n",
    "\n",
    "# 응답 출력\n",
    "print(response.text)"
   ]
  },
  {
   "cell_type": "code",
   "execution_count": 16,
   "metadata": {},
   "outputs": [
    {
     "name": "stdout",
     "output_type": "stream",
     "text": [
      "{\"Attributes\": {\"UserKey\": {\"S\": \"YourUserKeyValue\"}}, \"ResponseMetadata\": {\"RequestId\": \"QJ5FDJN91155TE0VKMQ42U98JBVV4KQNSO5AEMVJF66Q9ASUAAJG\", \"HTTPStatusCode\": 200, \"HTTPHeaders\": {\"server\": \"Server\", \"date\": \"Thu, 06 Feb 2025 02:06:42 GMT\", \"content-type\": \"application/x-amz-json-1.0\", \"content-length\": \"51\", \"connection\": \"keep-alive\", \"x-amzn-requestid\": \"QJ5FDJN91155TE0VKMQ42U98JBVV4KQNSO5AEMVJF66Q9ASUAAJG\", \"x-amz-crc32\": \"1301518788\"}, \"RetryAttempts\": 0}}\n"
     ]
    }
   ],
   "source": [
    "# PUT 요청에 사용될 JSON 본문\n",
    "data = {\n",
    "    'Key': {\n",
    "        'UserID': {'S': 'user_1234'},\n",
    "        'Timestamp': {'S': current_time}  # 'current_time'은 해당 시간으로 설정되어야 함\n",
    "    },\n",
    "    'UpdateExpression': 'SET UserKey = :val',\n",
    "    'ExpressionAttributeValues': {\n",
    "        ':val': {'S': 'YourUserKeyValue'}\n",
    "    },\n",
    "    'ReturnValues': \"UPDATED_NEW\"\n",
    "}\n",
    "\n",
    "# PUT 요청 보내기\n",
    "response = requests.put(url, headers=headers, json=data)\n",
    "\n",
    "# 응답 출력\n",
    "print(response.text)"
   ]
  },
  {
   "cell_type": "code",
   "execution_count": 17,
   "metadata": {},
   "outputs": [
    {
     "name": "stdout",
     "output_type": "stream",
     "text": [
      "{\"ResponseMetadata\": {\"RequestId\": \"B7UH55VNABANJN2GO6IK4GOIC7VV4KQNSO5AEMVJF66Q9ASUAAJG\", \"HTTPStatusCode\": 200, \"HTTPHeaders\": {\"server\": \"Server\", \"date\": \"Thu, 06 Feb 2025 02:06:51 GMT\", \"content-type\": \"application/x-amz-json-1.0\", \"content-length\": \"2\", \"connection\": \"keep-alive\", \"x-amzn-requestid\": \"B7UH55VNABANJN2GO6IK4GOIC7VV4KQNSO5AEMVJF66Q9ASUAAJG\", \"x-amz-crc32\": \"2745614147\"}, \"RetryAttempts\": 0}}\n"
     ]
    }
   ],
   "source": [
    "# DELETE 요청에 사용될 JSON 본문\n",
    "data = {\n",
    "    'Key': {\n",
    "        'UserID': {'S': 'user_1234'},\n",
    "        'Timestamp': {'S': current_time}  # 'current_time'은 해당 시간으로 설정되어야 함\n",
    "    }\n",
    "}\n",
    "\n",
    "# DELETE 요청 보내기\n",
    "response = requests.delete(url, headers=headers, json=data)\n",
    "\n",
    "# 응답 출력\n",
    "print(response.text)"
   ]
  },
  {
   "cell_type": "code",
   "execution_count": null,
   "metadata": {},
   "outputs": [],
   "source": []
  }
 ],
 "metadata": {
  "kernelspec": {
   "display_name": "Python 3",
   "language": "python",
   "name": "python3"
  },
  "language_info": {
   "codemirror_mode": {
    "name": "ipython",
    "version": 3
   },
   "file_extension": ".py",
   "mimetype": "text/x-python",
   "name": "python",
   "nbconvert_exporter": "python",
   "pygments_lexer": "ipython3",
   "version": "3.12.1"
  }
 },
 "nbformat": 4,
 "nbformat_minor": 2
}
