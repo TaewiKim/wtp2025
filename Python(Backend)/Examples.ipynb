{
 "cells": [
  {
   "cell_type": "code",
   "execution_count": 1,
   "metadata": {},
   "outputs": [
    {
     "name": "stdout",
     "output_type": "stream",
     "text": [
      "Alice is 30 years old and 5.5 feet tall.\n"
     ]
    }
   ],
   "source": [
    "name = \"Alice\"\n",
    "age = 30\n",
    "height = 5.5\n",
    "print(f\"{name} is {age} years old and {height} feet tall.\")\n"
   ]
  },
  {
   "cell_type": "code",
   "execution_count": 2,
   "metadata": {},
   "outputs": [
    {
     "name": "stdout",
     "output_type": "stream",
     "text": [
      "Result: 25.0\n"
     ]
    }
   ],
   "source": [
    "x = 10\n",
    "y = 2.5\n",
    "result = x * y\n",
    "print(\"Result:\", result)\n"
   ]
  },
  {
   "cell_type": "code",
   "execution_count": 3,
   "metadata": {},
   "outputs": [
    {
     "name": "stdout",
     "output_type": "stream",
     "text": [
      "You are an adult.\n"
     ]
    }
   ],
   "source": [
    "age = 18\n",
    "if age >= 18:\n",
    "    print(\"You are an adult.\")\n",
    "else:\n",
    "    print(\"You are a minor.\")\n"
   ]
  },
  {
   "cell_type": "code",
   "execution_count": 4,
   "metadata": {},
   "outputs": [
    {
     "name": "stdout",
     "output_type": "stream",
     "text": [
      "0\n",
      "1\n",
      "2\n",
      "3\n",
      "4\n"
     ]
    }
   ],
   "source": [
    "for i in range(5):\n",
    "    print(i)\n"
   ]
  },
  {
   "cell_type": "code",
   "execution_count": 5,
   "metadata": {},
   "outputs": [
    {
     "name": "stdout",
     "output_type": "stream",
     "text": [
      "5.0 + 5.0 = 10.0\n"
     ]
    }
   ],
   "source": [
    "a = float(input(\"Enter first number: \"))\n",
    "b = float(input(\"Enter second number: \"))\n",
    "operation = input(\"Choose the operation (+, -, *, /): \")\n",
    "\n",
    "if operation == '+':\n",
    "    print(f\"{a} + {b} = {a + b}\")\n",
    "elif operation == '-':\n",
    "    print(f\"{a} - {b} = {a - b}\")\n",
    "elif operation == '*':\n",
    "    print(f\"{a} * {b} = {a * b}\")\n",
    "elif operation == '/':\n",
    "    print(f\"{a} / {b} = {a / b}\")\n",
    "else:\n",
    "    print(\"Invalid operation\")\n"
   ]
  },
  {
   "cell_type": "code",
   "execution_count": 6,
   "metadata": {},
   "outputs": [
    {
     "name": "stdout",
     "output_type": "stream",
     "text": [
      "Maximum number is: 10\n"
     ]
    }
   ],
   "source": [
    "numbers = [2, 4, 6, 8, 10]\n",
    "max_number = numbers[0]\n",
    "for number in numbers:\n",
    "    if number > max_number:\n",
    "        max_number = number\n",
    "print(\"Maximum number is:\", max_number)\n"
   ]
  },
  {
   "cell_type": "code",
   "execution_count": null,
   "metadata": {},
   "outputs": [],
   "source": [
    "# Q1. 아래 코드를 실행했을 때의 출력값은 무엇인가요?\n",
    "x = 5\n",
    "y = \"Hello, World!\"\n",
    "print(type(x), type(y))\n",
    "\n",
    "# A) <class 'int'> <class 'str'>\n",
    "# B) <class 'float'> <class 'str'>\n",
    "# C) <class 'str'> <class 'int'>\n",
    "# D) <class 'int'> <class 'int'>\n"
   ]
  },
  {
   "cell_type": "code",
   "execution_count": null,
   "metadata": {},
   "outputs": [],
   "source": [
    "# Q2. 아래 코드의 출력값은 무엇인가요?\n",
    "\n",
    "if 5 > 2:\n",
    "    print(\"Five is greater than two!\")\n",
    "else:\n",
    "    print(\"Five is not greater than two!\")\n",
    "\n",
    "# A) Five is greater than two!\n",
    "# B) Five is not greater than two!\n",
    "# C) 에러가 발생한다.\n",
    "# D) 아무것도 출력되지 않는다."
   ]
  },
  {
   "cell_type": "code",
   "execution_count": null,
   "metadata": {},
   "outputs": [],
   "source": [
    "# Q3. 아래 코드가 “Python”을 몇 번 출력 할까요?\n",
    "\n",
    "for i in range(3):\n",
    "    print(\"Python\")\n",
    "\n",
    "# A) 1번\n",
    "# B) 2번\n",
    "# C) 3번\n",
    "# D) 4번"
   ]
  },
  {
   "cell_type": "code",
   "execution_count": null,
   "metadata": {},
   "outputs": [],
   "source": [
    "# Q4. 아래 코드의 출력값은 무엇인가요?\n",
    "\n",
    "def my_function(x):\n",
    "  return x + 1\n",
    "\n",
    "y = my_function(2)\n",
    "print(y)\n",
    "\n",
    "# A) 2\n",
    "# B) 3\n",
    "# C) 4\n",
    "# D) 에러가 발생한다.\n"
   ]
  },
  {
   "cell_type": "code",
   "execution_count": null,
   "metadata": {},
   "outputs": [],
   "source": [
    "# Q5. 아래 코드의 출력값은 무엇인가요?\n",
    "\n",
    "my_dict = {'apple': 1, 'banana': 2, 'cherry': 3}\n",
    "print(my_dict['banana'])\n",
    "\n",
    "# A) 1\n",
    "# B) 2\n",
    "# C) 3\n",
    "# D) KeyError가 발생한다."
   ]
  },
  {
   "cell_type": "code",
   "execution_count": null,
   "metadata": {},
   "outputs": [],
   "source": [
    "# 프로그래머스 스쿨\n",
    "# https://school.programmers.co.kr/"
   ]
  }
 ],
 "metadata": {
  "kernelspec": {
   "display_name": "Python 3",
   "language": "python",
   "name": "python3"
  },
  "language_info": {
   "codemirror_mode": {
    "name": "ipython",
    "version": 3
   },
   "file_extension": ".py",
   "mimetype": "text/x-python",
   "name": "python",
   "nbconvert_exporter": "python",
   "pygments_lexer": "ipython3",
   "version": "3.12.1"
  }
 },
 "nbformat": 4,
 "nbformat_minor": 2
}
